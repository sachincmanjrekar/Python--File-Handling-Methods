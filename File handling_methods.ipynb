{
 "cells": [
  {
   "cell_type": "code",
   "execution_count": 1,
   "id": "b738b982",
   "metadata": {},
   "outputs": [],
   "source": [
    "f=open(\"smiles.txt\",\"w\")"
   ]
  },
  {
   "cell_type": "code",
   "execution_count": 2,
   "id": "dfe17a25",
   "metadata": {},
   "outputs": [
    {
     "ename": "UnsupportedOperation",
     "evalue": "not readable",
     "output_type": "error",
     "traceback": [
      "\u001b[1;31m---------------------------------------------------------------------------\u001b[0m",
      "\u001b[1;31mUnsupportedOperation\u001b[0m                      Traceback (most recent call last)",
      "\u001b[1;32m~\\AppData\\Local\\Temp\\ipykernel_13048\\198814230.py\u001b[0m in \u001b[0;36m<module>\u001b[1;34m\u001b[0m\n\u001b[1;32m----> 1\u001b[1;33m \u001b[1;32mfor\u001b[0m \u001b[0mi\u001b[0m \u001b[1;32min\u001b[0m \u001b[0mf\u001b[0m\u001b[1;33m:\u001b[0m\u001b[1;33m\u001b[0m\u001b[1;33m\u001b[0m\u001b[0m\n\u001b[0m\u001b[0;32m      2\u001b[0m     \u001b[0mprint\u001b[0m\u001b[1;33m(\u001b[0m\u001b[0mi\u001b[0m\u001b[1;33m)\u001b[0m\u001b[1;33m\u001b[0m\u001b[1;33m\u001b[0m\u001b[0m\n",
      "\u001b[1;31mUnsupportedOperation\u001b[0m: not readable"
     ]
    }
   ],
   "source": [
    "for i in f:\n",
    "    print(i)"
   ]
  },
  {
   "cell_type": "code",
   "execution_count": 4,
   "id": "d9d68b13",
   "metadata": {},
   "outputs": [
    {
     "data": {
      "text/plain": [
       "['_CHUNK_SIZE',\n",
       " '__class__',\n",
       " '__del__',\n",
       " '__delattr__',\n",
       " '__dict__',\n",
       " '__dir__',\n",
       " '__doc__',\n",
       " '__enter__',\n",
       " '__eq__',\n",
       " '__exit__',\n",
       " '__format__',\n",
       " '__ge__',\n",
       " '__getattribute__',\n",
       " '__gt__',\n",
       " '__hash__',\n",
       " '__init__',\n",
       " '__init_subclass__',\n",
       " '__iter__',\n",
       " '__le__',\n",
       " '__lt__',\n",
       " '__ne__',\n",
       " '__new__',\n",
       " '__next__',\n",
       " '__reduce__',\n",
       " '__reduce_ex__',\n",
       " '__repr__',\n",
       " '__setattr__',\n",
       " '__sizeof__',\n",
       " '__str__',\n",
       " '__subclasshook__',\n",
       " '_checkClosed',\n",
       " '_checkReadable',\n",
       " '_checkSeekable',\n",
       " '_checkWritable',\n",
       " '_finalizing',\n",
       " 'buffer',\n",
       " 'close',\n",
       " 'closed',\n",
       " 'detach',\n",
       " 'encoding',\n",
       " 'errors',\n",
       " 'fileno',\n",
       " 'flush',\n",
       " 'isatty',\n",
       " 'line_buffering',\n",
       " 'mode',\n",
       " 'name',\n",
       " 'newlines',\n",
       " 'read',\n",
       " 'readable',\n",
       " 'readline',\n",
       " 'readlines',\n",
       " 'reconfigure',\n",
       " 'seek',\n",
       " 'seekable',\n",
       " 'tell',\n",
       " 'truncate',\n",
       " 'writable',\n",
       " 'write',\n",
       " 'write_through',\n",
       " 'writelines']"
      ]
     },
     "execution_count": 4,
     "metadata": {},
     "output_type": "execute_result"
    }
   ],
   "source": [
    "dir(f)"
   ]
  },
  {
   "cell_type": "code",
   "execution_count": 11,
   "id": "67e7da7d",
   "metadata": {},
   "outputs": [],
   "source": [
    "fel = open('speed.txt', 'w')\n",
    "fel.write(\"This is a First File\\n\")\n",
    "fel.write(\"Contains two lines\\n\")\n",
    "fel.close()\n",
    "  "
   ]
  },
  {
   "cell_type": "code",
   "execution_count": 12,
   "id": "b15882b4",
   "metadata": {},
   "outputs": [],
   "source": [
    "fel = open('speed.txt','r')"
   ]
  },
  {
   "cell_type": "code",
   "execution_count": 22,
   "id": "ec3cda6d",
   "metadata": {},
   "outputs": [],
   "source": [
    "for i in fel:    #once file handler comes to the end it prints nothing\n",
    "    print(i)"
   ]
  },
  {
   "cell_type": "code",
   "execution_count": 10,
   "id": "edbb5f15",
   "metadata": {},
   "outputs": [
    {
     "ename": "UnsupportedOperation",
     "evalue": "not readable",
     "output_type": "error",
     "traceback": [
      "\u001b[1;31m---------------------------------------------------------------------------\u001b[0m",
      "\u001b[1;31mUnsupportedOperation\u001b[0m                      Traceback (most recent call last)",
      "\u001b[1;32m~\\AppData\\Local\\Temp\\ipykernel_13048\\3382397602.py\u001b[0m in \u001b[0;36m<module>\u001b[1;34m\u001b[0m\n\u001b[1;32m----> 1\u001b[1;33m \u001b[0mfel\u001b[0m\u001b[1;33m.\u001b[0m\u001b[0mread\u001b[0m\u001b[1;33m(\u001b[0m\u001b[1;36m1\u001b[0m\u001b[1;33m)\u001b[0m\u001b[1;33m\u001b[0m\u001b[1;33m\u001b[0m\u001b[0m\n\u001b[0m",
      "\u001b[1;31mUnsupportedOperation\u001b[0m: not readable"
     ]
    }
   ],
   "source": [
    "fel.read(1)"
   ]
  },
  {
   "cell_type": "markdown",
   "id": "96b4a82f",
   "metadata": {},
   "source": [
    "### tell(),seek()"
   ]
  },
  {
   "cell_type": "code",
   "execution_count": 44,
   "id": "bcaacf2a",
   "metadata": {},
   "outputs": [
    {
     "data": {
      "text/plain": [
       "2"
      ]
     },
     "execution_count": 44,
     "metadata": {},
     "output_type": "execute_result"
    }
   ],
   "source": [
    "fel.tell()  #tell the current position of the cursor"
   ]
  },
  {
   "cell_type": "code",
   "execution_count": 46,
   "id": "9bb9cecd",
   "metadata": {},
   "outputs": [
    {
     "data": {
      "text/plain": [
       "1"
      ]
     },
     "execution_count": 46,
     "metadata": {},
     "output_type": "execute_result"
    }
   ],
   "source": [
    "fel.seek(1)  #move to the required position mentioned in the argument"
   ]
  },
  {
   "cell_type": "markdown",
   "id": "3a758cde",
   "metadata": {},
   "source": [
    "### write(),read()"
   ]
  },
  {
   "cell_type": "code",
   "execution_count": 117,
   "id": "1306dd7c",
   "metadata": {},
   "outputs": [
    {
     "data": {
      "text/plain": [
       "16"
      ]
     },
     "execution_count": 117,
     "metadata": {},
     "output_type": "execute_result"
    }
   ],
   "source": [
    "fel.write(\"hi this is sachin\")   #write the line into the file\n",
    "fel.write(\"this is shubhada\")"
   ]
  },
  {
   "cell_type": "code",
   "execution_count": 118,
   "id": "d7fce0ff",
   "metadata": {},
   "outputs": [],
   "source": [
    "fel = open('speed.txt')"
   ]
  },
  {
   "cell_type": "code",
   "execution_count": 119,
   "id": "0e7c7623",
   "metadata": {},
   "outputs": [
    {
     "data": {
      "text/plain": [
       "'This is a First File\\nContains two lines\\nhi this is sachinthis is shubhada'"
      ]
     },
     "execution_count": 119,
     "metadata": {},
     "output_type": "execute_result"
    }
   ],
   "source": [
    "fel.read()"
   ]
  },
  {
   "cell_type": "markdown",
   "id": "2cba7ec9",
   "metadata": {},
   "source": [
    "### writelines(),readlines()"
   ]
  },
  {
   "cell_type": "code",
   "execution_count": 4,
   "id": "fc917834",
   "metadata": {},
   "outputs": [],
   "source": [
    "love=[\"mango\",\"banana\",\"strawberry\"]\n",
    "fel.writelines(love)"
   ]
  },
  {
   "cell_type": "code",
   "execution_count": 5,
   "id": "2a3fc386",
   "metadata": {},
   "outputs": [
    {
     "data": {
      "text/plain": [
       "['__add__',\n",
       " '__class__',\n",
       " '__class_getitem__',\n",
       " '__contains__',\n",
       " '__delattr__',\n",
       " '__delitem__',\n",
       " '__dir__',\n",
       " '__doc__',\n",
       " '__eq__',\n",
       " '__format__',\n",
       " '__ge__',\n",
       " '__getattribute__',\n",
       " '__getitem__',\n",
       " '__gt__',\n",
       " '__hash__',\n",
       " '__iadd__',\n",
       " '__imul__',\n",
       " '__init__',\n",
       " '__init_subclass__',\n",
       " '__iter__',\n",
       " '__le__',\n",
       " '__len__',\n",
       " '__lt__',\n",
       " '__mul__',\n",
       " '__ne__',\n",
       " '__new__',\n",
       " '__reduce__',\n",
       " '__reduce_ex__',\n",
       " '__repr__',\n",
       " '__reversed__',\n",
       " '__rmul__',\n",
       " '__setattr__',\n",
       " '__setitem__',\n",
       " '__sizeof__',\n",
       " '__str__',\n",
       " '__subclasshook__',\n",
       " 'append',\n",
       " 'clear',\n",
       " 'copy',\n",
       " 'count',\n",
       " 'extend',\n",
       " 'index',\n",
       " 'insert',\n",
       " 'pop',\n",
       " 'remove',\n",
       " 'reverse',\n",
       " 'sort']"
      ]
     },
     "execution_count": 5,
     "metadata": {},
     "output_type": "execute_result"
    }
   ],
   "source": [
    "dir(love)"
   ]
  },
  {
   "cell_type": "code",
   "execution_count": 58,
   "id": "891daf6d",
   "metadata": {},
   "outputs": [],
   "source": [
    "fel = open('speed.txt')"
   ]
  },
  {
   "cell_type": "code",
   "execution_count": 59,
   "id": "7dc274a5",
   "metadata": {},
   "outputs": [
    {
     "data": {
      "text/plain": [
       "['This is a First File\\n',\n",
       " 'Contains two lines\\n',\n",
       " 'hi this is sachinthis is shubhadamangobananastrawberry']"
      ]
     },
     "execution_count": 59,
     "metadata": {},
     "output_type": "execute_result"
    }
   ],
   "source": [
    "fel.readlines()"
   ]
  },
  {
   "cell_type": "markdown",
   "id": "e1051978",
   "metadata": {},
   "source": [
    "### close()"
   ]
  },
  {
   "cell_type": "code",
   "execution_count": 60,
   "id": "2cdf1bde",
   "metadata": {},
   "outputs": [],
   "source": [
    "fel.close()"
   ]
  },
  {
   "cell_type": "code",
   "execution_count": 110,
   "id": "6ac5ed58",
   "metadata": {},
   "outputs": [],
   "source": [
    "fel = open('speed.txt')"
   ]
  },
  {
   "cell_type": "code",
   "execution_count": 62,
   "id": "72dc34a6",
   "metadata": {},
   "outputs": [
    {
     "data": {
      "text/plain": [
       "'This '"
      ]
     },
     "execution_count": 62,
     "metadata": {},
     "output_type": "execute_result"
    }
   ],
   "source": [
    "fel.read(5)"
   ]
  },
  {
   "cell_type": "markdown",
   "id": "77770d53",
   "metadata": {},
   "source": [
    "### readline()"
   ]
  },
  {
   "cell_type": "code",
   "execution_count": 85,
   "id": "f0ba481a",
   "metadata": {},
   "outputs": [
    {
     "data": {
      "text/plain": [
       "'This is a First File\\n'"
      ]
     },
     "execution_count": 85,
     "metadata": {},
     "output_type": "execute_result"
    }
   ],
   "source": [
    "fel.readline()"
   ]
  },
  {
   "cell_type": "code",
   "execution_count": 88,
   "id": "2784a454",
   "metadata": {},
   "outputs": [],
   "source": [
    "fel = open('speed.txt','a')"
   ]
  },
  {
   "cell_type": "code",
   "execution_count": 90,
   "id": "871e4eed",
   "metadata": {},
   "outputs": [],
   "source": [
    "du=[\"uber\",\"alles\"]\n",
    "fel.writelines(du)"
   ]
  },
  {
   "cell_type": "code",
   "execution_count": 91,
   "id": "0d0d553a",
   "metadata": {},
   "outputs": [
    {
     "ename": "TypeError",
     "evalue": "'_io.BufferedWriter' object is not callable",
     "output_type": "error",
     "traceback": [
      "\u001b[1;31m---------------------------------------------------------------------------\u001b[0m",
      "\u001b[1;31mTypeError\u001b[0m                                 Traceback (most recent call last)",
      "\u001b[1;32m~\\AppData\\Local\\Temp\\ipykernel_26224\\606170805.py\u001b[0m in \u001b[0;36m<module>\u001b[1;34m\u001b[0m\n\u001b[1;32m----> 1\u001b[1;33m \u001b[0mfel\u001b[0m\u001b[1;33m.\u001b[0m\u001b[0mbuffer\u001b[0m\u001b[1;33m(\u001b[0m\u001b[1;33m)\u001b[0m\u001b[1;33m\u001b[0m\u001b[1;33m\u001b[0m\u001b[0m\n\u001b[0m",
      "\u001b[1;31mTypeError\u001b[0m: '_io.BufferedWriter' object is not callable"
     ]
    }
   ],
   "source": [
    "fel.buffer()"
   ]
  },
  {
   "cell_type": "code",
   "execution_count": 93,
   "id": "afbe7a91",
   "metadata": {},
   "outputs": [
    {
     "ename": "TypeError",
     "evalue": "'bool' object is not callable",
     "output_type": "error",
     "traceback": [
      "\u001b[1;31m---------------------------------------------------------------------------\u001b[0m",
      "\u001b[1;31mTypeError\u001b[0m                                 Traceback (most recent call last)",
      "\u001b[1;32m~\\AppData\\Local\\Temp\\ipykernel_26224\\2856065655.py\u001b[0m in \u001b[0;36m<module>\u001b[1;34m\u001b[0m\n\u001b[0;32m      1\u001b[0m \u001b[1;31m#fel.close()\u001b[0m\u001b[1;33m\u001b[0m\u001b[1;33m\u001b[0m\u001b[0m\n\u001b[1;32m----> 2\u001b[1;33m \u001b[0mfel\u001b[0m\u001b[1;33m.\u001b[0m\u001b[0mclosed\u001b[0m\u001b[1;33m(\u001b[0m\u001b[1;33m)\u001b[0m\u001b[1;33m\u001b[0m\u001b[1;33m\u001b[0m\u001b[0m\n\u001b[0m",
      "\u001b[1;31mTypeError\u001b[0m: 'bool' object is not callable"
     ]
    }
   ],
   "source": [
    "fel.closed()"
   ]
  },
  {
   "cell_type": "code",
   "execution_count": 112,
   "id": "c0f53ab6",
   "metadata": {},
   "outputs": [],
   "source": [
    "fel = open('speed.txt','a')"
   ]
  },
  {
   "cell_type": "markdown",
   "id": "def57b01",
   "metadata": {},
   "source": [
    "### readable(),writable(),seekable()"
   ]
  },
  {
   "cell_type": "code",
   "execution_count": 95,
   "id": "583ee377",
   "metadata": {},
   "outputs": [
    {
     "data": {
      "text/plain": [
       "True"
      ]
     },
     "execution_count": 95,
     "metadata": {},
     "output_type": "execute_result"
    }
   ],
   "source": [
    "fel.readable()"
   ]
  },
  {
   "cell_type": "code",
   "execution_count": 96,
   "id": "42b0ea14",
   "metadata": {},
   "outputs": [
    {
     "data": {
      "text/plain": [
       "False"
      ]
     },
     "execution_count": 96,
     "metadata": {},
     "output_type": "execute_result"
    }
   ],
   "source": [
    "fel.writable()"
   ]
  },
  {
   "cell_type": "code",
   "execution_count": 97,
   "id": "66aa4fae",
   "metadata": {},
   "outputs": [
    {
     "data": {
      "text/plain": [
       "'This is a First File\\nContains two lines\\nuberalles'"
      ]
     },
     "execution_count": 97,
     "metadata": {},
     "output_type": "execute_result"
    }
   ],
   "source": [
    "fel.read()"
   ]
  },
  {
   "cell_type": "code",
   "execution_count": 103,
   "id": "322c6e10",
   "metadata": {},
   "outputs": [
    {
     "data": {
      "text/plain": [
       "4"
      ]
     },
     "execution_count": 103,
     "metadata": {},
     "output_type": "execute_result"
    }
   ],
   "source": [
    "fel.write(\"ZZZZ\")"
   ]
  },
  {
   "cell_type": "code",
   "execution_count": 104,
   "id": "0814e48d",
   "metadata": {},
   "outputs": [],
   "source": [
    "fel.close()"
   ]
  },
  {
   "cell_type": "code",
   "execution_count": 107,
   "id": "37f780b9",
   "metadata": {},
   "outputs": [
    {
     "data": {
      "text/plain": [
       "7"
      ]
     },
     "execution_count": 107,
     "metadata": {},
     "output_type": "execute_result"
    }
   ],
   "source": [
    "fel.write(\"ggggggg\")"
   ]
  },
  {
   "cell_type": "code",
   "execution_count": 113,
   "id": "5b9cd9e3",
   "metadata": {},
   "outputs": [
    {
     "data": {
      "text/plain": [
       "True"
      ]
     },
     "execution_count": 113,
     "metadata": {},
     "output_type": "execute_result"
    }
   ],
   "source": [
    "fel.seekable()"
   ]
  },
  {
   "cell_type": "markdown",
   "id": "0a82a62f",
   "metadata": {},
   "source": [
    "### flush(),truncate()"
   ]
  },
  {
   "cell_type": "code",
   "execution_count": 108,
   "id": "4f238e30",
   "metadata": {},
   "outputs": [],
   "source": [
    "fel.flush()  #without closing we can write data into speed.txt file"
   ]
  },
  {
   "cell_type": "code",
   "execution_count": 109,
   "id": "f2ccc2f1",
   "metadata": {},
   "outputs": [
    {
     "data": {
      "text/plain": [
       "10"
      ]
     },
     "execution_count": 109,
     "metadata": {},
     "output_type": "execute_result"
    }
   ],
   "source": [
    "fel.truncate(10)  #keep only required number of bytes, delete the rest."
   ]
  },
  {
   "cell_type": "code",
   "execution_count": 114,
   "id": "2fff8209",
   "metadata": {},
   "outputs": [
    {
     "ename": "TypeError",
     "evalue": "'NoneType' object is not callable",
     "output_type": "error",
     "traceback": [
      "\u001b[1;31m---------------------------------------------------------------------------\u001b[0m",
      "\u001b[1;31mTypeError\u001b[0m                                 Traceback (most recent call last)",
      "\u001b[1;32m~\\AppData\\Local\\Temp\\ipykernel_26224\\1908454838.py\u001b[0m in \u001b[0;36m<module>\u001b[1;34m\u001b[0m\n\u001b[1;32m----> 1\u001b[1;33m \u001b[0mfel\u001b[0m\u001b[1;33m.\u001b[0m\u001b[0mnewlines\u001b[0m\u001b[1;33m(\u001b[0m\u001b[1;33m)\u001b[0m\u001b[1;33m\u001b[0m\u001b[1;33m\u001b[0m\u001b[0m\n\u001b[0m",
      "\u001b[1;31mTypeError\u001b[0m: 'NoneType' object is not callable"
     ]
    }
   ],
   "source": [
    "fel.newlines()"
   ]
  },
  {
   "cell_type": "code",
   "execution_count": 1,
   "id": "d251afc2",
   "metadata": {},
   "outputs": [],
   "source": [
    "f=open(\"Kaiga.txt\",\"x\")"
   ]
  },
  {
   "cell_type": "code",
   "execution_count": 5,
   "id": "5c6bee37",
   "metadata": {},
   "outputs": [
    {
     "name": "stdout",
     "output_type": "stream",
     "text": [
      "True\n"
     ]
    }
   ],
   "source": [
    "import os\n",
    "h=os.path.isfile('Karwar.txt')\n",
    "print(h)"
   ]
  },
  {
   "cell_type": "code",
   "execution_count": null,
   "id": "3fcb8ee1",
   "metadata": {},
   "outputs": [],
   "source": []
  }
 ],
 "metadata": {
  "kernelspec": {
   "display_name": "Python 3 (ipykernel)",
   "language": "python",
   "name": "python3"
  },
  "language_info": {
   "codemirror_mode": {
    "name": "ipython",
    "version": 3
   },
   "file_extension": ".py",
   "mimetype": "text/x-python",
   "name": "python",
   "nbconvert_exporter": "python",
   "pygments_lexer": "ipython3",
   "version": "3.9.13"
  }
 },
 "nbformat": 4,
 "nbformat_minor": 5
}
